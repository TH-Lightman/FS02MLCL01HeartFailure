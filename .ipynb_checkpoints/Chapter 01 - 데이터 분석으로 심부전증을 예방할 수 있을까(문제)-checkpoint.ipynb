{
 "cells": [
  {
   "cell_type": "markdown",
   "metadata": {
    "id": "NqqLNJZjfi8U"
   },
   "source": [
    "# 주제 : 데이터 분석으로 심부전증을 예방할 수 있을까?\n",
    "----------\n",
    "\n",
    "## 실습 가이드\n",
    "    1. 데이터를 다운로드하여 Colab에 불러옵니다.\n",
    "    2. 필요한 라이브러리는 모두 코드로 작성되어 있습니다.\n",
    "    3. 코드는 위에서부터 아래로 순서대로 실행합니다.\n",
    "    \n",
    "    \n",
    "## 데이터 소개\n",
    "    - 이번 주제는 Heart Failure Prediction 데이터셋을 사용합니다.\n",
    "    \n",
    "    - 다음 1개의 csv 파일을 사용합니다.\n",
    "    heart_failure_clinical_records_dataset.csv\n",
    "    \n",
    "    - 각 파일의 컬럼은 아래와 같습니다.\n",
    "    age: 환자의 나이\n",
    "    anaemia: 환자의 빈혈증 여부 (0: 정상, 1: 빈혈)\n",
    "    creatinine_phosphokinase: 크레아틴키나제 검사 결과\n",
    "    diabetes: 당뇨병 여부 (0: 정상, 1: 당뇨)\n",
    "    ejection_fraction: 박출계수 (%)\n",
    "    high_blood_pressure: 고혈압 여부 (0: 정상, 1: 고혈압)\n",
    "    platelets: 혈소판 수 (kiloplatelets/mL)\n",
    "    serum_creatinine: 혈중 크레아틴 레벨 (mg/dL)\n",
    "    serum_sodium: 혈중 나트륨 레벨 (mEq/L)\n",
    "    sex: 성별 (0: 여성, 1: 남성)\n",
    "    smoking: 흡연 여부 (0: 비흡연, 1: 흡연)\n",
    "    time: 관찰 기간 (일)\n",
    "    DEATH_EVENT: 사망 여부 (0: 생존, 1: 사망)\n",
    "    \n",
    "    \n",
    "    \n",
    "- 데이터 출처: https://www.kaggle.com/andrewmvd/heart-failure-clinical-data\n",
    "\n",
    "\n",
    "## 최종 목표\n",
    "    - 의료 데이터와 그 분석에 대한 이해\n",
    "    - Colab 및 Pandas 라이브러리 사용법 이해\n",
    "    - 데이터 시각화를 통한 인사이트 습득 방법의 이해\n",
    "    - Scikit-learn 기반의 모델 학습 방법 습득\n",
    "    - Classification 모델의 학습과 평가 방법 이해\n",
    "\n",
    "- 출제자 : 신제용 강사\n",
    "---"
   ]
  },
  {
   "cell_type": "markdown",
   "metadata": {
    "id": "ODJVmYvIP3x-"
   },
   "source": [
    "## Step 0. 의료 데이터셋에 대하여"
   ]
  },
  {
   "cell_type": "markdown",
   "metadata": {
    "id": "c0iKTnLNsraM"
   },
   "source": [
    "### 의료 데이터의 수집\n"
   ]
  },
  {
   "cell_type": "markdown",
   "metadata": {
    "id": "cxZwPnfms0-9"
   },
   "source": [
    "### 의료 데이터 분석의 현재\n"
   ]
  },
  {
   "cell_type": "markdown",
   "metadata": {
    "id": "XEcB6i1os0y_"
   },
   "source": [
    "### Accuracy, Precision, 그리고 Recall"
   ]
  },
  {
   "cell_type": "markdown",
   "metadata": {
    "id": "IRssoNrgP7So"
   },
   "source": [
    "## Step 1. 데이터셋 준비하기"
   ]
  },
  {
   "cell_type": "code",
   "execution_count": 1,
   "metadata": {
    "id": "g49RuFGrBvt7"
   },
   "outputs": [],
   "source": [
    "import pandas as pd\n",
    "import numpy as np\n",
    "import matplotlib.pyplot as plt\n",
    "import seaborn as sns"
   ]
  },
  {
   "cell_type": "markdown",
   "metadata": {
    "id": "paInbv8Ys-Qy"
   },
   "source": [
    "### 문제 1. Colab Notebook에 Kaggle API 세팅하기\n"
   ]
  },
  {
   "cell_type": "code",
   "execution_count": 3,
   "metadata": {
    "id": "RRXGYV60B7FX"
   },
   "outputs": [],
   "source": [
    "import os"
   ]
  },
  {
   "cell_type": "code",
   "execution_count": 4,
   "metadata": {
    "id": "mMKFOC0OBtHO"
   },
   "outputs": [],
   "source": [
    "# os.environ을 이용하여 Kaggle API Username, Key 세팅하기\n",
    "\n",
    "# export KAGGLE_USERNAME=datadinosaur\n",
    "# export KAGGLE_KEY=xxxxxxxxxxxxxx\n",
    "os.environ['KAGGLE_USERNAME'] = 'brightly'\n",
    "os.environ['KAGGLE_KEY'] = 'e7db7871573e0698cd02df64c5e10be6'"
   ]
  },
  {
   "cell_type": "markdown",
   "metadata": {
    "id": "zvbeoB_WtBi-"
   },
   "source": [
    "### 문제 2. 데이터 다운로드 및 압축 해제하기\n"
   ]
  },
  {
   "cell_type": "code",
   "execution_count": null,
   "metadata": {
    "id": "JSblp2NsCGbh"
   },
   "outputs": [],
   "source": [
    "# Linux 명령어로 Kaggle API를 이용하여 데이터셋 다운로드하기 (!kaggle ~)\n",
    "!kaggle datasets download -d andrewmvd/heart-failure-clinical-datab\n",
    "\n",
    "# Linux 명령어로 압축 해제하기, 같은 이름의 파일이 존재하면 옵션창이 나타나므로 없도록 한 후 압축해제\n",
    "!unzip '*.zip'"
   ]
  },
  {
   "cell_type": "markdown",
   "metadata": {
    "id": "aJ34SovLtFI8"
   },
   "source": [
    "### 문제 3. Pandas 라이브러리로 csv파일 읽어들이기\n"
   ]
  },
  {
   "cell_type": "code",
   "execution_count": 2,
   "metadata": {},
   "outputs": [
    {
     "name": "stdout",
     "output_type": "stream",
     "text": [
      "Chapter 01 - �뜲�씠�꽣 遺꾩꽍�쑝濡� �떖遺��쟾利앹쓣 �삁諛⑺븷 �닔 �엳�쓣源�(臾몄젣).ipynb\n",
      "heart_failure_clinical_records_dataset.csv\n"
     ]
    }
   ],
   "source": [
    "!ls"
   ]
  },
  {
   "cell_type": "code",
   "execution_count": 27,
   "metadata": {
    "id": "RnJv-4YwCMSx"
   },
   "outputs": [],
   "source": [
    "# pd.read_csv()로 csv파일 읽어들이기\n",
    "df = pd.read_csv('heart_failure_clinical_records_dataset.csv')"
   ]
  },
  {
   "cell_type": "markdown",
   "metadata": {
    "id": "9L3BNVM7tHN5"
   },
   "source": [
    "## Step 2. EDA 및 데이터 기초 통계 분석\n"
   ]
  },
  {
   "cell_type": "markdown",
   "metadata": {
    "id": "HyFm33tNtVn7"
   },
   "source": [
    "### 문제 4. 데이터프레임의 각 컬럼 분석하기\n"
   ]
  },
  {
   "cell_type": "code",
   "execution_count": 5,
   "metadata": {
    "id": "YcR9BX23DIFW"
   },
   "outputs": [
    {
     "data": {
      "text/html": [
       "<div>\n",
       "<style scoped>\n",
       "    .dataframe tbody tr th:only-of-type {\n",
       "        vertical-align: middle;\n",
       "    }\n",
       "\n",
       "    .dataframe tbody tr th {\n",
       "        vertical-align: top;\n",
       "    }\n",
       "\n",
       "    .dataframe thead th {\n",
       "        text-align: right;\n",
       "    }\n",
       "</style>\n",
       "<table border=\"1\" class=\"dataframe\">\n",
       "  <thead>\n",
       "    <tr style=\"text-align: right;\">\n",
       "      <th></th>\n",
       "      <th>age</th>\n",
       "      <th>anaemia</th>\n",
       "      <th>creatinine_phosphokinase</th>\n",
       "      <th>diabetes</th>\n",
       "      <th>ejection_fraction</th>\n",
       "      <th>high_blood_pressure</th>\n",
       "      <th>platelets</th>\n",
       "      <th>serum_creatinine</th>\n",
       "      <th>serum_sodium</th>\n",
       "      <th>sex</th>\n",
       "      <th>smoking</th>\n",
       "      <th>time</th>\n",
       "      <th>DEATH_EVENT</th>\n",
       "    </tr>\n",
       "  </thead>\n",
       "  <tbody>\n",
       "    <tr>\n",
       "      <th>0</th>\n",
       "      <td>75.0</td>\n",
       "      <td>0</td>\n",
       "      <td>582</td>\n",
       "      <td>0</td>\n",
       "      <td>20</td>\n",
       "      <td>1</td>\n",
       "      <td>265000.00</td>\n",
       "      <td>1.9</td>\n",
       "      <td>130</td>\n",
       "      <td>1</td>\n",
       "      <td>0</td>\n",
       "      <td>4</td>\n",
       "      <td>1</td>\n",
       "    </tr>\n",
       "    <tr>\n",
       "      <th>1</th>\n",
       "      <td>55.0</td>\n",
       "      <td>0</td>\n",
       "      <td>7861</td>\n",
       "      <td>0</td>\n",
       "      <td>38</td>\n",
       "      <td>0</td>\n",
       "      <td>263358.03</td>\n",
       "      <td>1.1</td>\n",
       "      <td>136</td>\n",
       "      <td>1</td>\n",
       "      <td>0</td>\n",
       "      <td>6</td>\n",
       "      <td>1</td>\n",
       "    </tr>\n",
       "    <tr>\n",
       "      <th>2</th>\n",
       "      <td>65.0</td>\n",
       "      <td>0</td>\n",
       "      <td>146</td>\n",
       "      <td>0</td>\n",
       "      <td>20</td>\n",
       "      <td>0</td>\n",
       "      <td>162000.00</td>\n",
       "      <td>1.3</td>\n",
       "      <td>129</td>\n",
       "      <td>1</td>\n",
       "      <td>1</td>\n",
       "      <td>7</td>\n",
       "      <td>1</td>\n",
       "    </tr>\n",
       "    <tr>\n",
       "      <th>3</th>\n",
       "      <td>50.0</td>\n",
       "      <td>1</td>\n",
       "      <td>111</td>\n",
       "      <td>0</td>\n",
       "      <td>20</td>\n",
       "      <td>0</td>\n",
       "      <td>210000.00</td>\n",
       "      <td>1.9</td>\n",
       "      <td>137</td>\n",
       "      <td>1</td>\n",
       "      <td>0</td>\n",
       "      <td>7</td>\n",
       "      <td>1</td>\n",
       "    </tr>\n",
       "    <tr>\n",
       "      <th>4</th>\n",
       "      <td>65.0</td>\n",
       "      <td>1</td>\n",
       "      <td>160</td>\n",
       "      <td>1</td>\n",
       "      <td>20</td>\n",
       "      <td>0</td>\n",
       "      <td>327000.00</td>\n",
       "      <td>2.7</td>\n",
       "      <td>116</td>\n",
       "      <td>0</td>\n",
       "      <td>0</td>\n",
       "      <td>8</td>\n",
       "      <td>1</td>\n",
       "    </tr>\n",
       "  </tbody>\n",
       "</table>\n",
       "</div>"
      ],
      "text/plain": [
       "    age  anaemia  creatinine_phosphokinase  diabetes  ejection_fraction  \\\n",
       "0  75.0        0                       582         0                 20   \n",
       "1  55.0        0                      7861         0                 38   \n",
       "2  65.0        0                       146         0                 20   \n",
       "3  50.0        1                       111         0                 20   \n",
       "4  65.0        1                       160         1                 20   \n",
       "\n",
       "   high_blood_pressure  platelets  serum_creatinine  serum_sodium  sex  \\\n",
       "0                    1  265000.00               1.9           130    1   \n",
       "1                    0  263358.03               1.1           136    1   \n",
       "2                    0  162000.00               1.3           129    1   \n",
       "3                    0  210000.00               1.9           137    1   \n",
       "4                    0  327000.00               2.7           116    0   \n",
       "\n",
       "   smoking  time  DEATH_EVENT  \n",
       "0        0     4            1  \n",
       "1        0     6            1  \n",
       "2        1     7            1  \n",
       "3        0     7            1  \n",
       "4        0     8            1  "
      ]
     },
     "execution_count": 5,
     "metadata": {},
     "output_type": "execute_result"
    }
   ],
   "source": [
    "# DataFrame에서 제공하는 메소드를 이용하여 컬럼 분석하기 (head(), info(), describe())\n",
    "df.head()"
   ]
  },
  {
   "cell_type": "markdown",
   "metadata": {},
   "source": [
    "<ul>\n",
    "<li>범주형: anaemia, diabetes, high_blood_pressure, sex, smoking, DEATH_EVENT</li>\n",
    "<li>수치형: age, creatinine_phosphokinase, ejection_fraction, platelets, serum_creatinine, serum_sodium, time</li>\n",
    "</ul>"
   ]
  },
  {
   "cell_type": "code",
   "execution_count": 7,
   "metadata": {
    "scrolled": true
   },
   "outputs": [
    {
     "name": "stdout",
     "output_type": "stream",
     "text": [
      "<class 'pandas.core.frame.DataFrame'>\n",
      "RangeIndex: 299 entries, 0 to 298\n",
      "Data columns (total 13 columns):\n",
      " #   Column                    Non-Null Count  Dtype  \n",
      "---  ------                    --------------  -----  \n",
      " 0   age                       299 non-null    float64\n",
      " 1   anaemia                   299 non-null    int64  \n",
      " 2   creatinine_phosphokinase  299 non-null    int64  \n",
      " 3   diabetes                  299 non-null    int64  \n",
      " 4   ejection_fraction         299 non-null    int64  \n",
      " 5   high_blood_pressure       299 non-null    int64  \n",
      " 6   platelets                 299 non-null    float64\n",
      " 7   serum_creatinine          299 non-null    float64\n",
      " 8   serum_sodium              299 non-null    int64  \n",
      " 9   sex                       299 non-null    int64  \n",
      " 10  smoking                   299 non-null    int64  \n",
      " 11  time                      299 non-null    int64  \n",
      " 12  DEATH_EVENT               299 non-null    int64  \n",
      "dtypes: float64(3), int64(10)\n",
      "memory usage: 30.5 KB\n"
     ]
    }
   ],
   "source": [
    "df.info()"
   ]
  },
  {
   "cell_type": "code",
   "execution_count": 14,
   "metadata": {},
   "outputs": [
    {
     "data": {
      "text/plain": [
       "0      0\n",
       "1      0\n",
       "2      0\n",
       "3      1\n",
       "4      1\n",
       "      ..\n",
       "294    0\n",
       "295    0\n",
       "296    0\n",
       "297    0\n",
       "298    0\n",
       "Name: anaemia, Length: 299, dtype: int64"
      ]
     },
     "execution_count": 14,
     "metadata": {},
     "output_type": "execute_result"
    }
   ],
   "source": [
    "df.anaemia"
   ]
  },
  {
   "cell_type": "code",
   "execution_count": 38,
   "metadata": {},
   "outputs": [
    {
     "data": {
      "text/plain": [
       "count    299.00000\n",
       "mean       0.32107\n",
       "std        0.46767\n",
       "min        0.00000\n",
       "25%        0.00000\n",
       "50%        0.00000\n",
       "75%        1.00000\n",
       "max        1.00000\n",
       "Name: smoking, dtype: float64"
      ]
     },
     "execution_count": 38,
     "metadata": {},
     "output_type": "execute_result"
    }
   ],
   "source": [
    "df.describe()['smoking']"
   ]
  },
  {
   "cell_type": "code",
   "execution_count": 32,
   "metadata": {
    "scrolled": false
   },
   "outputs": [
    {
     "data": {
      "text/plain": [
       "anaemia                0.431438\n",
       "diabetes               0.418060\n",
       "high_blood_pressure    0.351171\n",
       "sex                    0.648829\n",
       "smoking                0.321070\n",
       "DEATH_EVENT            0.321070\n",
       "Name: mean, dtype: float64"
      ]
     },
     "execution_count": 32,
     "metadata": {},
     "output_type": "execute_result"
    }
   ],
   "source": [
    "#범주형 변수(0,1로 구성)의 비율 보기\n",
    "df.describe()[['anaemia', 'diabetes', 'high_blood_pressure', 'sex', 'smoking', 'DEATH_EVENT']].loc['mean']"
   ]
  },
  {
   "cell_type": "markdown",
   "metadata": {
    "id": "HGHvPwkNtXgj"
   },
   "source": [
    "### 문제 5. 수치형 데이터의 히스토그램 그리기\n"
   ]
  },
  {
   "cell_type": "markdown",
   "metadata": {},
   "source": [
    " #### 개인과제: 성별 담배를 많이 피는 정도 ? [범주형 * 카운트] * 범주형"
   ]
  },
  {
   "cell_type": "markdown",
   "metadata": {},
   "source": [
    "##### > 시각화"
   ]
  },
  {
   "cell_type": "code",
   "execution_count": null,
   "metadata": {},
   "outputs": [],
   "source": [
    "## 참고(선이 최소최대를 의미하지않음): sns.pointplot(data = df, x = 'sex', y = 'smoking')\n",
    "sns.countplot(data = df, x = 'sex', hue = 'smoking')"
   ]
  },
  {
   "cell_type": "markdown",
   "metadata": {},
   "source": [
    "##### > 표"
   ]
  },
  {
   "cell_type": "code",
   "execution_count": 82,
   "metadata": {
    "scrolled": true
   },
   "outputs": [
    {
     "name": "stdout",
     "output_type": "stream",
     "text": [
      "smoking    0   1\n",
      "sex             \n",
      "0        101   4\n",
      "1        102  92\n",
      "sex\n",
      "0    0.038095\n",
      "1    0.474227\n",
      "Name: smoking, dtype: float64\n"
     ]
    }
   ],
   "source": [
    "#pivot_table을 이용해 각 케이스를 카운팅한다\n",
    "## print(df['sex'].value_counts())\n",
    "print(df.pivot_table(index = 'sex', columns = 'smoking', aggfunc = 'count')['DEATH_EVENT'])\n",
    "#이렇게 하면 안됨 : print(df.pivot_table(index = 'sex', columns = 'smoking', aggfunc = 'mean')['DEATH_EVENT'])\n",
    "\n",
    "#groupby를 이용해 구체적인 비율을 본다\n",
    "print(df.groupby('sex').mean()['smoking'])"
   ]
  },
  {
   "cell_type": "code",
   "execution_count": 35,
   "metadata": {
    "id": "GZXSBFPyDh6R"
   },
   "outputs": [
    {
     "data": {
      "text/plain": [
       "<AxesSubplot:xlabel='smoking', ylabel='ejection_fraction'>"
      ]
     },
     "execution_count": 35,
     "metadata": {},
     "output_type": "execute_result"
    },
    {
     "data": {
      "image/png": "[encoded data removed]",
      "text/plain": [
       "<Figure size 432x288 with 1 Axes>"
      ]
     },
     "metadata": {
      "needs_background": "light"
     },
     "output_type": "display_data"
    }
   ],
   "source": [
    "# seaborn의 histplot, jointplot, pairplot을 이용해 히스토그램 그리기\n",
    "sns.histplot()"
   ]
  },
  {
   "cell_type": "markdown",
   "metadata": {
    "id": "KywGh9sjtYl9"
   },
   "source": [
    "### 문제 6. Boxplot 계열을 이용하여 범주별 통계 확인하기\n"
   ]
  },
  {
   "cell_type": "code",
   "execution_count": null,
   "metadata": {
    "id": "TqXkwW8JDxhH"
   },
   "outputs": [],
   "source": [
    "# seaborn의 Boxplot 계열(boxplot(), violinplot(), swarmplot())을 사용\n",
    "# Hint) hue 키워드를 사용하여 범주 세분화 가능\n",
    "\n",
    "\n",
    "\n"
   ]
  },
  {
   "cell_type": "markdown",
   "metadata": {
    "id": "GD18QuastZy8"
   },
   "source": [
    "## Step 3. 모델 학습을 위한 데이터 전처리\n"
   ]
  },
  {
   "cell_type": "markdown",
   "metadata": {
    "id": "Dev2yLeMta85"
   },
   "source": [
    "### 문제 7. StandardScaler를 이용하여 데이터 전처리하기\n"
   ]
  },
  {
   "cell_type": "code",
   "execution_count": null,
   "metadata": {
    "id": "8P7qVd6yEk3v"
   },
   "outputs": [],
   "source": [
    "from sklearn.preprocessing import StandardScaler"
   ]
  },
  {
   "cell_type": "code",
   "execution_count": null,
   "metadata": {
    "id": "wZUdkt0lEndT"
   },
   "outputs": [],
   "source": [
    "# 수치형 입력 데이터, 범주형 입력 데이터, 출력 데이터로 구분하기\n",
    "X_num = \n",
    "X_cat = \n",
    "y = "
   ]
  },
  {
   "cell_type": "code",
   "execution_count": null,
   "metadata": {
    "id": "W3EO22NCE3wG"
   },
   "outputs": [],
   "source": [
    "# 수치형 입력 데이터를 전처리하고 입력 데이터 통합하기\n",
    "scaler =\n",
    "X = "
   ]
  },
  {
   "cell_type": "markdown",
   "metadata": {
    "id": "x93Tb6lptcA2"
   },
   "source": [
    "### 문제 8. 학습데이터와 테스트데이터 분리하기\n"
   ]
  },
  {
   "cell_type": "code",
   "execution_count": null,
   "metadata": {
    "id": "C9kMQI8SEche"
   },
   "outputs": [],
   "source": [
    "from sklearn.model_selection import train_test_split"
   ]
  },
  {
   "cell_type": "code",
   "execution_count": null,
   "metadata": {
    "id": "F07QjOFwFNEw"
   },
   "outputs": [],
   "source": [
    "# train_test_split() 함수로 학습 데이터와 테스트 데이터 분리하기\n",
    "X_train, X_test, y_train, y_test = "
   ]
  },
  {
   "cell_type": "markdown",
   "metadata": {
    "id": "DTqb-HqPtc4I"
   },
   "source": [
    "## Step 4. Classification 모델 학습하기\n"
   ]
  },
  {
   "cell_type": "markdown",
   "metadata": {
    "id": "Ckexl202tmZI"
   },
   "source": [
    "### 문제 9. Logistic Regression 모델 생성/학습하기\n"
   ]
  },
  {
   "cell_type": "code",
   "execution_count": null,
   "metadata": {
    "id": "2Wt_0AdNFfbN"
   },
   "outputs": [],
   "source": [
    "from sklearn.linear_model import LogisticRegression"
   ]
  },
  {
   "cell_type": "code",
   "execution_count": null,
   "metadata": {
    "id": "1lM57a_8Fdbh"
   },
   "outputs": [],
   "source": [
    "# LogisticRegression 모델 생성/학습\n",
    "model_lr = \n",
    "\n",
    "\n"
   ]
  },
  {
   "cell_type": "markdown",
   "metadata": {
    "id": "APOI7Hc9tnvr"
   },
   "source": [
    "### 문제 10. 모델 학습 결과 평가하기\n"
   ]
  },
  {
   "cell_type": "code",
   "execution_count": null,
   "metadata": {
    "id": "2lIoyMjFFrif"
   },
   "outputs": [],
   "source": [
    "from sklearn.metrics import classification_report"
   ]
  },
  {
   "cell_type": "code",
   "execution_count": null,
   "metadata": {
    "id": "1dD9JnN-FnpC"
   },
   "outputs": [],
   "source": [
    "# Predict를 수행하고 classification_report() 결과 출력하기\n",
    "pred = \n",
    "\n",
    "\n"
   ]
  },
  {
   "cell_type": "markdown",
   "metadata": {
    "id": "xTRTOLTNto3h"
   },
   "source": [
    "### 문제 11. XGBoost 모델 생성/학습하기\n"
   ]
  },
  {
   "cell_type": "code",
   "execution_count": null,
   "metadata": {
    "id": "ow28ZRL4F7D5"
   },
   "outputs": [],
   "source": [
    "from xgboost import XGBClassifier"
   ]
  },
  {
   "cell_type": "code",
   "execution_count": null,
   "metadata": {
    "id": "LSSNqFUrGM6R"
   },
   "outputs": [],
   "source": [
    "# XGBClassifier 모델 생성/학습\n",
    "model_xgb = \n",
    "\n",
    "\n"
   ]
  },
  {
   "cell_type": "markdown",
   "metadata": {
    "id": "kAisZoSEtp35"
   },
   "source": [
    "### 문제 12. 모델 학습 결과 평가하기\n"
   ]
  },
  {
   "cell_type": "code",
   "execution_count": null,
   "metadata": {
    "id": "WLnyYNJwGRgd"
   },
   "outputs": [],
   "source": [
    "# Predict를 수행하고 classification_report() 결과 출력하기\n",
    "pred = \n",
    "\n",
    "\n"
   ]
  },
  {
   "cell_type": "markdown",
   "metadata": {
    "id": "3A7Ghq67tqsM"
   },
   "source": [
    "### 문제 13. 특징의 중요도 확인하기\n"
   ]
  },
  {
   "cell_type": "code",
   "execution_count": null,
   "metadata": {
    "id": "1Fo6x7b7GU1W"
   },
   "outputs": [],
   "source": [
    "# XGBClassifier 모델의 feature_importances_를 이용하여 중요도 plot\n",
    "\n",
    "\n",
    "\n"
   ]
  },
  {
   "cell_type": "markdown",
   "metadata": {
    "id": "7icVVlSwtr53"
   },
   "source": [
    "## Step5 모델 학습 결과 심화 분석하기\n"
   ]
  },
  {
   "cell_type": "markdown",
   "metadata": {
    "id": "LmaEIOOItvJa"
   },
   "source": [
    "### 문제 14. Precision-Recall 커브 확인하기"
   ]
  },
  {
   "cell_type": "code",
   "execution_count": null,
   "metadata": {
    "id": "nmgLWL84Gji6"
   },
   "outputs": [],
   "source": [
    "from sklearn.metrics import plot_precision_recall_curve"
   ]
  },
  {
   "cell_type": "code",
   "execution_count": null,
   "metadata": {
    "id": "BUIXk9RNGnRa"
   },
   "outputs": [],
   "source": [
    "# 두 모델의 Precision-Recall 커브를 한번에 그리기 (힌트: fig.gca()로 ax를 반환받아 사용)\n",
    "\n",
    "\n",
    "\n"
   ]
  },
  {
   "cell_type": "markdown",
   "metadata": {
    "id": "5yIbQKjktuwg"
   },
   "source": [
    "### 문제 15. ROC 커브 확인하기"
   ]
  },
  {
   "cell_type": "code",
   "execution_count": null,
   "metadata": {
    "id": "kZKXWpKOGmXf"
   },
   "outputs": [],
   "source": [
    "from sklearn.metrics import plot_roc_curve"
   ]
  },
  {
   "cell_type": "code",
   "execution_count": null,
   "metadata": {
    "id": "3bY4SZZ4HBdN"
   },
   "outputs": [],
   "source": [
    "# 두 모델의 ROC 커브를 한번에 그리기 (힌트: fig.gca()로 ax를 반환받아 사용)\n",
    "\n",
    "\n",
    "\n"
   ]
  }
 ],
 "metadata": {
  "colab": {
   "collapsed_sections": [
    "cxZwPnfms0-9"
   ],
   "name": "1-1. 데이터 분석으로 심부전증을 예방할 수 있을까?",
   "provenance": [
    {
     "file_id": "1j79f83Q3TPyjwsbNx2fy_Dt-J37MVNvZ",
     "timestamp": 1605597047726
    },
    {
     "file_id": "1QiLPv5TzBrE7Lb-X4fMq7KHePTq0Em2L",
     "timestamp": 1605593695308
    },
    {
     "file_id": "1Ot6dlC7E_dqo8XOgyTA03SKSqFcvkCdO",
     "timestamp": 1605087778098
    },
    {
     "file_id": "1cS2OjWOehEb97E7763rQ_LrzQIK34Kd-",
     "timestamp": 1604921871166
    },
    {
     "file_id": "1g7SaVjG6EvBPvIH4ADG2RA3qN8v521d1",
     "timestamp": 1604886286018
    }
   ]
  },
  "kernelspec": {
   "display_name": "Python 3",
   "language": "python",
   "name": "python3"
  },
  "language_info": {
   "codemirror_mode": {
    "name": "ipython",
    "version": 3
   },
   "file_extension": ".py",
   "mimetype": "text/x-python",
   "name": "python",
   "nbconvert_exporter": "python",
   "pygments_lexer": "ipython3",
   "version": "3.8.5"
  }
 },
 "nbformat": 4,
 "nbformat_minor": 1
}
